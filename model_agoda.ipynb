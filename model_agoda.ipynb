{
 "cells": [
  {
   "cell_type": "code",
   "execution_count": 2,
   "id": "98949e39",
   "metadata": {},
   "outputs": [
    {
     "name": "stderr",
     "output_type": "stream",
     "text": [
      "C:\\Users\\student\\anaconda3\\envs\\web_scraping\\lib\\site-packages\\tqdm\\auto.py:21: TqdmWarning: IProgress not found. Please update jupyter and ipywidgets. See https://ipywidgets.readthedocs.io/en/stable/user_install.html\n",
      "  from .autonotebook import tqdm as notebook_tqdm\n"
     ]
    }
   ],
   "source": [
    "from transformers import BertModel, BertTokenizer\n",
    "from torch.optim import Adam\n",
    "import torch\n",
    "import pandas as pd\n",
    "from sklearn.metrics.pairwise import cosine_similarity\n",
    "import numpy as np\n",
    "import datetime\n",
    "import os"
   ]
  },
  {
   "cell_type": "markdown",
   "id": "e184061f",
   "metadata": {},
   "source": [
    "## roberta 模型"
   ]
  },
  {
   "cell_type": "code",
   "execution_count": 2,
   "id": "b7adb5d5",
   "metadata": {},
   "outputs": [
    {
     "name": "stderr",
     "output_type": "stream",
     "text": [
      "C:\\Users\\student\\AppData\\Local\\Temp\\ipykernel_14756\\2966174892.py:12: DtypeWarning: Columns (33,35,36,38,39,40,41,42,43,44,45,46,47,48,49) have mixed types. Specify dtype option on import or set low_memory=False.\n",
      "  df_ = pd.read_csv('./translated_agoda_comments_all_city.csv', header=0)\n",
      "Some weights of the model checkpoint at hfl/chinese-roberta-wwm-ext were not used when initializing BertModel: ['cls.predictions.decoder.weight', 'cls.predictions.transform.LayerNorm.weight', 'cls.seq_relationship.weight', 'cls.predictions.transform.dense.weight', 'cls.predictions.transform.dense.bias', 'cls.predictions.bias', 'cls.predictions.transform.LayerNorm.bias', 'cls.seq_relationship.bias']\n",
      "- This IS expected if you are initializing BertModel from the checkpoint of a model trained on another task or with another architecture (e.g. initializing a BertForSequenceClassification model from a BertForPreTraining model).\n",
      "- This IS NOT expected if you are initializing BertModel from the checkpoint of a model that you expect to be exactly identical (initializing a BertForSequenceClassification model from a BertForSequenceClassification model).\n"
     ]
    },
    {
     "name": "stdout",
     "output_type": "stream",
     "text": [
      "Processing batch 1 of 21...\n",
      "Sentence at index 1026 is not a string. Skipping...\n",
      "Sentence at index 1641 is not a string. Skipping...\n",
      "The sentence is too long. Skipping...\n",
      "The sentence is too long. Skipping...\n",
      "The sentence is too long. Skipping...\n",
      "Sentence at index 4046 is not a string. Skipping...\n",
      "Sentence at index 4441 is not a string. Skipping...\n",
      "第1批次儲存完畢\n",
      "Processing batch 2 of 21...\n",
      "Sentence at index 309 is not a string. Skipping...\n",
      "Sentence at index 358 is not a string. Skipping...\n",
      "The sentence is too long. Skipping...\n",
      "The sentence is too long. Skipping...\n",
      "Sentence at index 2133 is not a string. Skipping...\n",
      "The sentence is too long. Skipping...\n",
      "Sentence at index 2343 is not a string. Skipping...\n",
      "The sentence is too long. Skipping...\n",
      "The sentence is too long. Skipping...\n",
      "The sentence is too long. Skipping...\n",
      "The sentence is too long. Skipping...\n",
      "The sentence is too long. Skipping...\n",
      "Sentence at index 4233 is not a string. Skipping...\n",
      "The sentence is too long. Skipping...\n",
      "第2批次儲存完畢\n",
      "Processing batch 3 of 21...\n",
      "Sentence at index 1022 is not a string. Skipping...\n",
      "Sentence at index 1337 is not a string. Skipping...\n",
      "The sentence is too long. Skipping...\n",
      "The sentence is too long. Skipping...\n",
      "第3批次儲存完畢\n",
      "Processing batch 4 of 21...\n",
      "The sentence is too long. Skipping...\n",
      "The sentence is too long. Skipping...\n",
      "The sentence is too long. Skipping...\n",
      "The sentence is too long. Skipping...\n",
      "The sentence is too long. Skipping...\n",
      "The sentence is too long. Skipping...\n",
      "The sentence is too long. Skipping...\n",
      "The sentence is too long. Skipping...\n",
      "The sentence is too long. Skipping...\n",
      "Sentence at index 3739 is not a string. Skipping...\n",
      "The sentence is too long. Skipping...\n",
      "The sentence is too long. Skipping...\n",
      "The sentence is too long. Skipping...\n",
      "The sentence is too long. Skipping...\n",
      "The sentence is too long. Skipping...\n",
      "The sentence is too long. Skipping...\n",
      "The sentence is too long. Skipping...\n",
      "The sentence is too long. Skipping...\n",
      "第4批次儲存完畢\n",
      "Processing batch 5 of 21...\n",
      "The sentence is too long. Skipping...\n",
      "The sentence is too long. Skipping...\n",
      "Sentence at index 1521 is not a string. Skipping...\n",
      "Sentence at index 1585 is not a string. Skipping...\n",
      "The sentence is too long. Skipping...\n",
      "The sentence is too long. Skipping...\n",
      "The sentence is too long. Skipping...\n",
      "The sentence is too long. Skipping...\n"
     ]
    },
    {
     "name": "stderr",
     "output_type": "stream",
     "text": [
      "C:\\Users\\student\\AppData\\Local\\Temp\\ipykernel_14756\\2966174892.py:71: DtypeWarning: Columns (33,36) have mixed types. Specify dtype option on import or set low_memory=False.\n",
      "  df_hotel_info_old = pd.read_csv('agoda_hotel_info_roberta_綜合評論.csv')\n"
     ]
    },
    {
     "name": "stdout",
     "output_type": "stream",
     "text": [
      "第5批次儲存完畢\n",
      "Processing batch 6 of 21...\n",
      "The sentence is too long. Skipping...\n",
      "The sentence is too long. Skipping...\n",
      "The sentence is too long. Skipping...\n",
      "The sentence is too long. Skipping...\n",
      "The sentence is too long. Skipping...\n",
      "The sentence is too long. Skipping...\n",
      "The sentence is too long. Skipping...\n",
      "The sentence is too long. Skipping...\n",
      "Sentence at index 2812 is not a string. Skipping...\n",
      "Sentence at index 2813 is not a string. Skipping...\n",
      "The sentence is too long. Skipping...\n",
      "The sentence is too long. Skipping...\n",
      "The sentence is too long. Skipping...\n",
      "The sentence is too long. Skipping...\n",
      "The sentence is too long. Skipping...\n",
      "The sentence is too long. Skipping...\n",
      "The sentence is too long. Skipping...\n",
      "The sentence is too long. Skipping...\n",
      "The sentence is too long. Skipping...\n",
      "The sentence is too long. Skipping...\n",
      "The sentence is too long. Skipping...\n",
      "The sentence is too long. Skipping...\n",
      "The sentence is too long. Skipping...\n",
      "第6批次儲存完畢\n",
      "Processing batch 7 of 21...\n",
      "The sentence is too long. Skipping...\n",
      "The sentence is too long. Skipping...\n",
      "The sentence is too long. Skipping...\n",
      "The sentence is too long. Skipping...\n",
      "The sentence is too long. Skipping...\n",
      "The sentence is too long. Skipping...\n",
      "The sentence is too long. Skipping...\n",
      "The sentence is too long. Skipping...\n",
      "The sentence is too long. Skipping...\n",
      "Sentence at index 4612 is not a string. Skipping...\n",
      "第7批次儲存完畢\n",
      "Processing batch 8 of 21...\n",
      "The sentence is too long. Skipping...\n",
      "The sentence is too long. Skipping...\n",
      "Sentence at index 2251 is not a string. Skipping...\n",
      "The sentence is too long. Skipping...\n",
      "Sentence at index 2811 is not a string. Skipping...\n",
      "The sentence is too long. Skipping...\n",
      "The sentence is too long. Skipping...\n",
      "The sentence is too long. Skipping...\n",
      "The sentence is too long. Skipping...\n",
      "The sentence is too long. Skipping...\n"
     ]
    },
    {
     "name": "stderr",
     "output_type": "stream",
     "text": [
      "C:\\Users\\student\\AppData\\Local\\Temp\\ipykernel_14756\\2966174892.py:71: DtypeWarning: Columns (36) have mixed types. Specify dtype option on import or set low_memory=False.\n",
      "  df_hotel_info_old = pd.read_csv('agoda_hotel_info_roberta_綜合評論.csv')\n"
     ]
    },
    {
     "name": "stdout",
     "output_type": "stream",
     "text": [
      "第8批次儲存完畢\n",
      "Processing batch 9 of 21...\n",
      "The sentence is too long. Skipping...\n",
      "The sentence is too long. Skipping...\n",
      "Sentence at index 1234 is not a string. Skipping...\n",
      "The sentence is too long. Skipping...\n",
      "The sentence is too long. Skipping...\n",
      "The sentence is too long. Skipping...\n",
      "The sentence is too long. Skipping...\n",
      "Sentence at index 3546 is not a string. Skipping...\n",
      "The sentence is too long. Skipping...\n",
      "The sentence is too long. Skipping...\n",
      "Sentence at index 4479 is not a string. Skipping...\n"
     ]
    },
    {
     "name": "stderr",
     "output_type": "stream",
     "text": [
      "C:\\Users\\student\\AppData\\Local\\Temp\\ipykernel_14756\\2966174892.py:71: DtypeWarning: Columns (36) have mixed types. Specify dtype option on import or set low_memory=False.\n",
      "  df_hotel_info_old = pd.read_csv('agoda_hotel_info_roberta_綜合評論.csv')\n"
     ]
    },
    {
     "name": "stdout",
     "output_type": "stream",
     "text": [
      "第9批次儲存完畢\n",
      "Processing batch 10 of 21...\n",
      "Sentence at index 373 is not a string. Skipping...\n",
      "The sentence is too long. Skipping...\n",
      "The sentence is too long. Skipping...\n",
      "The sentence is too long. Skipping...\n",
      "Sentence at index 2335 is not a string. Skipping...\n",
      "The sentence is too long. Skipping...\n",
      "Sentence at index 4184 is not a string. Skipping...\n",
      "The sentence is too long. Skipping...\n",
      "The sentence is too long. Skipping...\n",
      "The sentence is too long. Skipping...\n",
      "第10批次儲存完畢\n",
      "Processing batch 11 of 21...\n",
      "The sentence is too long. Skipping...\n",
      "The sentence is too long. Skipping...\n",
      "The sentence is too long. Skipping...\n",
      "The sentence is too long. Skipping...\n",
      "The sentence is too long. Skipping...\n",
      "The sentence is too long. Skipping...\n",
      "The sentence is too long. Skipping...\n",
      "The sentence is too long. Skipping...\n",
      "Sentence at index 3035 is not a string. Skipping...\n",
      "The sentence is too long. Skipping...\n",
      "The sentence is too long. Skipping...\n"
     ]
    },
    {
     "name": "stderr",
     "output_type": "stream",
     "text": [
      "C:\\Users\\student\\AppData\\Local\\Temp\\ipykernel_14756\\2966174892.py:71: DtypeWarning: Columns (33,36,37) have mixed types. Specify dtype option on import or set low_memory=False.\n",
      "  df_hotel_info_old = pd.read_csv('agoda_hotel_info_roberta_綜合評論.csv')\n"
     ]
    },
    {
     "name": "stdout",
     "output_type": "stream",
     "text": [
      "第11批次儲存完畢\n",
      "Processing batch 12 of 21...\n",
      "The sentence is too long. Skipping...\n",
      "The sentence is too long. Skipping...\n",
      "The sentence is too long. Skipping...\n",
      "The sentence is too long. Skipping...\n",
      "The sentence is too long. Skipping...\n",
      "The sentence is too long. Skipping...\n",
      "The sentence is too long. Skipping...\n",
      "The sentence is too long. Skipping...\n",
      "The sentence is too long. Skipping...\n"
     ]
    },
    {
     "name": "stderr",
     "output_type": "stream",
     "text": [
      "C:\\Users\\student\\AppData\\Local\\Temp\\ipykernel_14756\\2966174892.py:71: DtypeWarning: Columns (33,36,37) have mixed types. Specify dtype option on import or set low_memory=False.\n",
      "  df_hotel_info_old = pd.read_csv('agoda_hotel_info_roberta_綜合評論.csv')\n"
     ]
    },
    {
     "name": "stdout",
     "output_type": "stream",
     "text": [
      "第12批次儲存完畢\n",
      "Processing batch 13 of 21...\n",
      "The sentence is too long. Skipping...\n",
      "The sentence is too long. Skipping...\n",
      "Sentence at index 846 is not a string. Skipping...\n",
      "Sentence at index 891 is not a string. Skipping...\n",
      "The sentence is too long. Skipping...\n",
      "Sentence at index 1130 is not a string. Skipping...\n",
      "The sentence is too long. Skipping...\n",
      "The sentence is too long. Skipping...\n",
      "The sentence is too long. Skipping...\n",
      "The sentence is too long. Skipping...\n",
      "The sentence is too long. Skipping...\n",
      "Sentence at index 4283 is not a string. Skipping...\n"
     ]
    },
    {
     "name": "stderr",
     "output_type": "stream",
     "text": [
      "C:\\Users\\student\\AppData\\Local\\Temp\\ipykernel_14756\\2966174892.py:71: DtypeWarning: Columns (33,36) have mixed types. Specify dtype option on import or set low_memory=False.\n",
      "  df_hotel_info_old = pd.read_csv('agoda_hotel_info_roberta_綜合評論.csv')\n"
     ]
    },
    {
     "name": "stdout",
     "output_type": "stream",
     "text": [
      "第13批次儲存完畢\n",
      "Processing batch 14 of 21...\n",
      "The sentence is too long. Skipping...\n",
      "The sentence is too long. Skipping...\n",
      "The sentence is too long. Skipping...\n",
      "The sentence is too long. Skipping...\n",
      "The sentence is too long. Skipping...\n",
      "The sentence is too long. Skipping...\n",
      "The sentence is too long. Skipping...\n",
      "The sentence is too long. Skipping...\n",
      "The sentence is too long. Skipping...\n",
      "The sentence is too long. Skipping...\n",
      "The sentence is too long. Skipping...\n",
      "The sentence is too long. Skipping...\n"
     ]
    },
    {
     "name": "stderr",
     "output_type": "stream",
     "text": [
      "C:\\Users\\student\\AppData\\Local\\Temp\\ipykernel_14756\\2966174892.py:71: DtypeWarning: Columns (49) have mixed types. Specify dtype option on import or set low_memory=False.\n",
      "  df_hotel_info_old = pd.read_csv('agoda_hotel_info_roberta_綜合評論.csv')\n"
     ]
    },
    {
     "name": "stdout",
     "output_type": "stream",
     "text": [
      "第14批次儲存完畢\n",
      "Processing batch 15 of 21...\n",
      "Sentence at index 130 is not a string. Skipping...\n",
      "The sentence is too long. Skipping...\n",
      "Sentence at index 1737 is not a string. Skipping...\n",
      "Sentence at index 1892 is not a string. Skipping...\n",
      "The sentence is too long. Skipping...\n",
      "The sentence is too long. Skipping...\n",
      "The sentence is too long. Skipping...\n",
      "Sentence at index 4444 is not a string. Skipping...\n",
      "The sentence is too long. Skipping...\n"
     ]
    },
    {
     "name": "stderr",
     "output_type": "stream",
     "text": [
      "C:\\Users\\student\\AppData\\Local\\Temp\\ipykernel_14756\\2966174892.py:71: DtypeWarning: Columns (49) have mixed types. Specify dtype option on import or set low_memory=False.\n",
      "  df_hotel_info_old = pd.read_csv('agoda_hotel_info_roberta_綜合評論.csv')\n"
     ]
    },
    {
     "name": "stdout",
     "output_type": "stream",
     "text": [
      "第15批次儲存完畢\n",
      "Processing batch 16 of 21...\n",
      "The sentence is too long. Skipping...\n",
      "The sentence is too long. Skipping...\n",
      "The sentence is too long. Skipping...\n",
      "The sentence is too long. Skipping...\n",
      "Sentence at index 3877 is not a string. Skipping...\n",
      "The sentence is too long. Skipping...\n"
     ]
    },
    {
     "name": "stderr",
     "output_type": "stream",
     "text": [
      "C:\\Users\\student\\AppData\\Local\\Temp\\ipykernel_14756\\2966174892.py:71: DtypeWarning: Columns (49) have mixed types. Specify dtype option on import or set low_memory=False.\n",
      "  df_hotel_info_old = pd.read_csv('agoda_hotel_info_roberta_綜合評論.csv')\n"
     ]
    },
    {
     "name": "stdout",
     "output_type": "stream",
     "text": [
      "第16批次儲存完畢\n",
      "Processing batch 17 of 21...\n",
      "Sentence at index 0 is not a string. Skipping...\n",
      "Sentence at index 28 is not a string. Skipping...\n",
      "The sentence is too long. Skipping...\n",
      "The sentence is too long. Skipping...\n",
      "The sentence is too long. Skipping...\n",
      "The sentence is too long. Skipping...\n"
     ]
    },
    {
     "name": "stderr",
     "output_type": "stream",
     "text": [
      "C:\\Users\\student\\AppData\\Local\\Temp\\ipykernel_14756\\2966174892.py:71: DtypeWarning: Columns (49) have mixed types. Specify dtype option on import or set low_memory=False.\n",
      "  df_hotel_info_old = pd.read_csv('agoda_hotel_info_roberta_綜合評論.csv')\n"
     ]
    },
    {
     "name": "stdout",
     "output_type": "stream",
     "text": [
      "第17批次儲存完畢\n",
      "Processing batch 18 of 21...\n",
      "The sentence is too long. Skipping...\n",
      "The sentence is too long. Skipping...\n",
      "The sentence is too long. Skipping...\n",
      "The sentence is too long. Skipping...\n",
      "The sentence is too long. Skipping...\n",
      "The sentence is too long. Skipping...\n",
      "The sentence is too long. Skipping...\n",
      "The sentence is too long. Skipping...\n",
      "The sentence is too long. Skipping...\n",
      "The sentence is too long. Skipping...\n",
      "The sentence is too long. Skipping...\n"
     ]
    },
    {
     "name": "stderr",
     "output_type": "stream",
     "text": [
      "C:\\Users\\student\\AppData\\Local\\Temp\\ipykernel_14756\\2966174892.py:71: DtypeWarning: Columns (33,36,49) have mixed types. Specify dtype option on import or set low_memory=False.\n",
      "  df_hotel_info_old = pd.read_csv('agoda_hotel_info_roberta_綜合評論.csv')\n"
     ]
    },
    {
     "name": "stdout",
     "output_type": "stream",
     "text": [
      "第18批次儲存完畢\n",
      "Processing batch 19 of 21...\n",
      "The sentence is too long. Skipping...\n",
      "The sentence is too long. Skipping...\n",
      "The sentence is too long. Skipping...\n",
      "The sentence is too long. Skipping...\n",
      "Sentence at index 3266 is not a string. Skipping...\n",
      "Sentence at index 3355 is not a string. Skipping...\n",
      "Sentence at index 4985 is not a string. Skipping...\n"
     ]
    },
    {
     "name": "stderr",
     "output_type": "stream",
     "text": [
      "C:\\Users\\student\\AppData\\Local\\Temp\\ipykernel_14756\\2966174892.py:71: DtypeWarning: Columns (33,49) have mixed types. Specify dtype option on import or set low_memory=False.\n",
      "  df_hotel_info_old = pd.read_csv('agoda_hotel_info_roberta_綜合評論.csv')\n"
     ]
    },
    {
     "name": "stdout",
     "output_type": "stream",
     "text": [
      "第19批次儲存完畢\n",
      "Processing batch 20 of 21...\n",
      "Sentence at index 174 is not a string. Skipping...\n",
      "The sentence is too long. Skipping...\n",
      "The sentence is too long. Skipping...\n",
      "The sentence is too long. Skipping...\n",
      "The sentence is too long. Skipping...\n",
      "Sentence at index 2266 is not a string. Skipping...\n",
      "Sentence at index 3221 is not a string. Skipping...\n",
      "The sentence is too long. Skipping...\n",
      "The sentence is too long. Skipping...\n",
      "The sentence is too long. Skipping...\n",
      "The sentence is too long. Skipping...\n",
      "The sentence is too long. Skipping...\n"
     ]
    },
    {
     "name": "stderr",
     "output_type": "stream",
     "text": [
      "C:\\Users\\student\\AppData\\Local\\Temp\\ipykernel_14756\\2966174892.py:71: DtypeWarning: Columns (33,49) have mixed types. Specify dtype option on import or set low_memory=False.\n",
      "  df_hotel_info_old = pd.read_csv('agoda_hotel_info_roberta_綜合評論.csv')\n"
     ]
    },
    {
     "name": "stdout",
     "output_type": "stream",
     "text": [
      "第20批次儲存完畢\n",
      "Processing batch 21 of 21...\n",
      "執行時間： 1:53:54.740255\n"
     ]
    }
   ],
   "source": [
    "# 開始測量(時間)\n",
    "startime = datetime.datetime.now()\n",
    "\n",
    "df_ = pd.read_csv('./translated_agoda_comments_all_city.csv', header=0)\n",
    "\n",
    "# 刪除 '綜合評論' 欄位中含有 NaN 的列\n",
    "df_ = df_.dropna(subset=['綜合評論'])\n",
    "\n",
    "# 篩選評論數大於等於 30 的飯店\n",
    "df_filtered = df_.groupby('飯店名稱').filter(lambda x: len(x) >= 30)\n",
    "\n",
    "# df_filtered = df_filtered[0:100000]\n",
    "\n",
    "df_filtered = df_filtered.reset_index(drop=True)\n",
    "\n",
    "# 初始化 RoBERTa-wwm-ext 模型和分詞器\n",
    "tokenizer = BertTokenizer.from_pretrained('hfl/chinese-roberta-wwm-ext')\n",
    "model = BertModel.from_pretrained('hfl/chinese-roberta-wwm-ext')\n",
    "\n",
    "# 定義每個批次的大小\n",
    "batch_size = 5000\n",
    "\n",
    "# 計算需要進行的批次數\n",
    "n_batches = (len(df_filtered) // batch_size) + 1\n",
    "\n",
    "# 開始進行批次處理\n",
    "for batch_idx in range(n_batches):\n",
    "    print(f\"Processing batch {batch_idx + 1} of {n_batches}...\")\n",
    "    \n",
    "    start_idx = batch_idx * batch_size\n",
    "\n",
    "    end_idx = (batch_idx + 1) * batch_size\n",
    "\n",
    "    # 評論文本\n",
    "    sentences = list(df_filtered.loc[start_idx:end_idx-1, '綜合評論'])\n",
    "\n",
    "    # 如果 sentences 是空的，則跳過該批次\n",
    "    if not sentences:\n",
    "        continue\n",
    "\n",
    "    # 初始化一個空的 list 用於儲存飯店資訊\n",
    "    hotel_info_list = []\n",
    "\n",
    "    # 獲取每個文本的嵌入向量，並儲存對應的飯店資訊\n",
    "    embeddings = []\n",
    "    for idx, sentence in enumerate(sentences):\n",
    "        if isinstance(sentence, str):\n",
    "            tokens = tokenizer.tokenize(sentence)  # 分詞\n",
    "            inputs = tokenizer(sentence, return_tensors=\"pt\")\n",
    "        else:\n",
    "            print(f\"Sentence at index {idx} is not a string. Skipping...\")\n",
    "            continue\n",
    "\n",
    "        # 檢查序列長度是否超過 512\n",
    "        if len(inputs[\"input_ids\"][0]) > 512:\n",
    "            print(\"The sentence is too long. Skipping...\")\n",
    "            continue\n",
    "\n",
    "        with torch.no_grad():\n",
    "            outputs = model(**inputs)\n",
    "        embeddings.append(outputs.last_hidden_state.mean(dim=1).numpy().flatten())\n",
    "        hotel_info_list.append(df_filtered.iloc[start_idx + idx].to_dict())\n",
    "\n",
    "    # 讀取原有的飯店資訊和 embeddings\n",
    "    if os.path.exists('agoda_roberta_hotel_info_綜合評論.csv') and os.path.exists('agoda_roberta_embeddings_綜合評論.npy'):\n",
    "        df_hotel_info_old = pd.read_csv('agoda_roberta_hotel_info_綜合評論.csv')\n",
    "        embeddings_old = np.load('agoda_roberta_embeddings_綜合評論.npy')\n",
    "\n",
    "    else:\n",
    "        df_hotel_info_old = pd.DataFrame()\n",
    "        embeddings_old = np.array([]).reshape(0,768)\n",
    "\n",
    "    # 儲存飯店資訊與 embeddings\n",
    "    df_hotel_info_new = pd.DataFrame(hotel_info_list)\n",
    "    df_hotel_info = pd.concat([df_hotel_info_old, df_hotel_info_new], ignore_index=True)\n",
    "    df_hotel_info.to_csv('agoda_roberta_hotel_info_綜合評論.csv', index=False)\n",
    "\n",
    "    embeddings_new = np.array(embeddings)\n",
    "    embeddings = np.vstack([embeddings_old, embeddings_new])\n",
    "    np.save('agoda_roberta_embeddings_綜合評論.npy', embeddings)\n",
    "    \n",
    "    print(f\"第{batch_idx + 1}批次儲存完畢\")\n",
    "    \n",
    "# 結束測量\n",
    "endtime = datetime.datetime.now()\n",
    "\n",
    "# 輸出結果\n",
    "print(\"執行時間：\", endtime - startime)"
   ]
  }
 ],
 "metadata": {
  "kernelspec": {
   "display_name": "Python 3 (ipykernel)",
   "language": "python",
   "name": "python3"
  },
  "language_info": {
   "codemirror_mode": {
    "name": "ipython",
    "version": 3
   },
   "file_extension": ".py",
   "mimetype": "text/x-python",
   "name": "python",
   "nbconvert_exporter": "python",
   "pygments_lexer": "ipython3",
   "version": "3.10.10"
  }
 },
 "nbformat": 4,
 "nbformat_minor": 5
}

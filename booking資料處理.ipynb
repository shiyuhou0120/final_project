{
 "cells": [
  {
   "cell_type": "code",
   "execution_count": 2,
   "id": "fccf2778",
   "metadata": {},
   "outputs": [],
   "source": [
    "import pandas as pd"
   ]
  },
  {
   "cell_type": "markdown",
   "id": "f63a3049",
   "metadata": {},
   "source": [
    "##### 合併檔案"
   ]
  },
  {
   "cell_type": "code",
   "execution_count": null,
   "id": "a8652b98",
   "metadata": {},
   "outputs": [],
   "source": [
    "import glob\n",
    "\n",
    "# 取得所有 CSV 檔案的路徑\n",
    "csv_files = glob.glob('bookingHotelComments_1_5/*.csv')\n",
    "\n",
    "df = pd.DataFrame()\n",
    "\n",
    "for file in csv_files:\n",
    "    data = pd.read_csv(file, header=0)\n",
    "    df = pd.concat([df, data], axis=0,ignore_index=True)\n",
    "print(df)\n",
    "df.to_csv('TEST.csv', index=False, encoding='utf-8-sig')"
   ]
  },
  {
   "cell_type": "markdown",
   "id": "a7ea0f01",
   "metadata": {},
   "source": [
    "##### 檢查處理過後的檔案內容"
   ]
  },
  {
   "cell_type": "code",
   "execution_count": 1,
   "id": "89bba106",
   "metadata": {},
   "outputs": [],
   "source": [
    "import pandas as pd\n",
    "data = pd.read_csv('booking_comments_分詞update.csv', encoding='utf-8-sig')"
   ]
  },
  {
   "cell_type": "code",
   "execution_count": 9,
   "id": "20f31288",
   "metadata": {},
   "outputs": [
    {
     "name": "stdout",
     "output_type": "stream",
     "text": [
      "44\n",
      "房間乾淨，床睡起來很舒服，也會喬車位出來。\n",
      "早餐現做的很好吃，外籍的阿姨人也很親切。房間冷氣不知道是怎麼回事，23度了還不會涼，晚上睡覺的時候跟另一半還被熱醒，甚至吹到一半突然停掉還爬起來再開啟\n",
      "房間的設計不錯。老闆娘很有人情味。都喜歡\n",
      "值得下次再來的好房間。\n",
      "價效比超高👍👍房間好大又安靜！老闆還準備了豐盛的早餐👍👍是我住過最貼心的民宿,謝謝老闆♥️♥️。\n",
      "好停車。房間黴味重、早餐太過簡單\n",
      "離海灘五分鐘路程。冷氣不冷但老闆娘很熱心協助換房間很感謝\n",
      "無。房間黴味重、床單有破洞，令人發癢\n",
      "如同之前的網路評論一樣，booking的時候才告知沒房間。真的無言！。無。都是\n",
      "早餐很好吃、房間空間大、洗澡水夠大冷氣夠冷、服務好又親切。。\n",
      "307房間舒適寬敞，設計不錯，可惜被整潔度跟不好的服務品質拖累。房間內裝符合墾丁度假氛圍，準備早餐的外籍人員對每個住客貼心問候，早餐現做新鮮好吃。\n"
     ]
    },
    {
     "data": {
      "text/html": [
       "<div>\n",
       "<style scoped>\n",
       "    .dataframe tbody tr th:only-of-type {\n",
       "        vertical-align: middle;\n",
       "    }\n",
       "\n",
       "    .dataframe tbody tr th {\n",
       "        vertical-align: top;\n",
       "    }\n",
       "\n",
       "    .dataframe thead th {\n",
       "        text-align: right;\n",
       "    }\n",
       "</style>\n",
       "<table border=\"1\" class=\"dataframe\">\n",
       "  <thead>\n",
       "    <tr style=\"text-align: right;\">\n",
       "      <th></th>\n",
       "      <th>飯店名稱</th>\n",
       "      <th>國籍</th>\n",
       "      <th>負評</th>\n",
       "      <th>正評</th>\n",
       "      <th>綜合評論</th>\n",
       "      <th>縣市</th>\n",
       "      <th>鄉鎮</th>\n",
       "      <th>整體評分</th>\n",
       "      <th>單項評分_整潔度</th>\n",
       "      <th>單項評分_舒適程度</th>\n",
       "      <th>單項評分_住宿地點</th>\n",
       "      <th>單項評分_設施</th>\n",
       "      <th>單項評分_員工素質</th>\n",
       "      <th>單項評分_性價比</th>\n",
       "      <th>綜合評論_cut</th>\n",
       "      <th>綜合評論key_word</th>\n",
       "      <th>負評_cut</th>\n",
       "      <th>負評key_word</th>\n",
       "      <th>正評_cut</th>\n",
       "      <th>正評key_word</th>\n",
       "    </tr>\n",
       "  </thead>\n",
       "  <tbody>\n",
       "    <tr>\n",
       "      <th>9772</th>\n",
       "      <td>磐石旅店</td>\n",
       "      <td>臺灣</td>\n",
       "      <td>NaN</td>\n",
       "      <td>老闆很熱情很隨性❤️</td>\n",
       "      <td>開心渡假時光的好選擇。老闆很熱情很隨性❤️。沒有</td>\n",
       "      <td>屏東縣</td>\n",
       "      <td>恆春鎮</td>\n",
       "      <td>8.4</td>\n",
       "      <td>8.9</td>\n",
       "      <td>8.8</td>\n",
       "      <td>8.8</td>\n",
       "      <td>8.5</td>\n",
       "      <td>9.1</td>\n",
       "      <td>8.8</td>\n",
       "      <td>['開心', '渡假', '時光', '選擇', '老闆', '熱情', '隨性', '❤'...</td>\n",
       "      <td>['渡假', '開心', '時光', '選擇', '老闆', '熱情', '隨性']</td>\n",
       "      <td>[]</td>\n",
       "      <td>[]</td>\n",
       "      <td>['老闆', '熱情', '隨性', '❤', '️']</td>\n",
       "      <td>['老闆', '熱情', '隨性']</td>\n",
       "    </tr>\n",
       "  </tbody>\n",
       "</table>\n",
       "</div>"
      ],
      "text/plain": [
       "      飯店名稱  國籍   負評          正評                      綜合評論   縣市   鄉鎮  整體評分   \n",
       "9772  磐石旅店  臺灣  NaN  老闆很熱情很隨性❤️  開心渡假時光的好選擇。老闆很熱情很隨性❤️。沒有  屏東縣  恆春鎮   8.4  \\\n",
       "\n",
       "      單項評分_整潔度  單項評分_舒適程度  單項評分_住宿地點  單項評分_設施  單項評分_員工素質  單項評分_性價比   \n",
       "9772       8.9        8.8        8.8      8.5        9.1       8.8  \\\n",
       "\n",
       "                                               綜合評論_cut   \n",
       "9772  ['開心', '渡假', '時光', '選擇', '老闆', '熱情', '隨性', '❤'...  \\\n",
       "\n",
       "                                    綜合評論key_word 負評_cut 負評key_word   \n",
       "9772  ['渡假', '開心', '時光', '選擇', '老闆', '熱情', '隨性']     []         []  \\\n",
       "\n",
       "                            正評_cut          正評key_word  \n",
       "9772  ['老闆', '熱情', '隨性', '❤', '️']  ['老闆', '熱情', '隨性']  "
      ]
     },
     "execution_count": 9,
     "metadata": {},
     "output_type": "execute_result"
    }
   ],
   "source": [
    "print(len(data[data['飯店名稱']=='磐石旅店']['綜合評論']))\n",
    "for comment in data[data['飯店名稱']=='磐石旅店']['綜合評論']:\n",
    "    if '房間' in comment:\n",
    "        print(comment)\n",
    "data[data['飯店名稱']=='磐石旅店'][0:1]"
   ]
  },
  {
   "cell_type": "code",
   "execution_count": 10,
   "id": "1254dd64",
   "metadata": {},
   "outputs": [
    {
     "name": "stdout",
     "output_type": "stream",
     "text": [
      "42\n",
      "舒適愉快、景色宜人、。地點、房間設施、服務。無免治馬桶\n",
      "早餐不錯，有冷暖氣房間舒適不潮濕。洗臉臺有點小，頭會卡到置物架\n",
      "鹿野高臺絕佳美景的絕佳留宿選擇。早餐非常優秀，蔬菜雞胸可頌飲料等，少油健康。晚餐雖然沒有那麼驚豔，但是以高臺這樣用餐選擇相對少的地區，也十足滿足了。最優秀的莫過於獨佔制高點的陽臺，在熱氣球季更是得天獨厚，泡杯茶、輕鬆愜意就能欣賞，就算不是熱氣球季，鹿野高臺本身就是天然的青山藍天美景，想必也是舒暢放鬆的度假好去處。房間整潔而中規中矩，另外隔音意外得很不錯，原本還擔心活動過程會被廣播吵到，結果相當程度地降噪了。整體相當值得推薦！。自然環境自然會有小蟲，在意的人就可以做先防護措施。原本指定時間送餐的預約，在時間上是有點小延遲，不過自己下樓提醒後也有迅速取得，只是小問題。\n",
      "很推薦。服務態度很好房間乾淨還有提供免費保養品老闆對客人不吝嗇。隔音小小的不好\n",
      "很棒的住宿經驗，早餐好吃，位置絕佳還有陽臺，晚上幸運可以看到銀河。。房間位置超級好，在房間可以直接看到高臺，住宿附近都沒有光害，當天很幸運肉眼可以直接看到銀河。價位偏高一點點，但在高臺景觀最佳的位置還算可以接受\n",
      "房間很乾淨,餐點雖然簡單,但是不管是茶飲或是點心,都很精緻美味,不會用廉價的東西應付客人,老闆娘很甜美,笑咪咪的.門口出去就是滑草場,晚上星星好亮好美。有幾間房的冷氣要等很久才會涼.應該是方位的問題\n",
      "房間露臺就能看日出&星星。\n",
      "窗外的美景，無敵！房間的擺置，舒適！早餐的美味，豐富！管家的親切，溫暖！。沒有\n",
      "早餐還可以，咖啡好喝，服務態度親切。房間小，實際和照片感受落差大，不是很舒適，洗完澡後淋浴間積水嚴重；連續入住兩晚，第二天外出時沒有整理房間就算了，也沒有再提供乾淨的毛巾或衛生紙礦泉水等；這個價格配上這樣的房間，覺得9.2的高分跟我入住的感受差異未免也太大，以前覺得booking的評分很可以信賴跟參考，但這次我真的蠻疑惑的😅\n",
      "這次是在4/11入住，總共兩晚，體驗感受非常棒，入住的房間有跟其他區塊區隔開，裡面房間也很舒適，另外因為地勢比較高，一早起來可以看到外面的雄偉山景，真的十分享受，服務人員態度也非常友善，很用心的跟我們分享附近的景點，附的早餐豐盛、健。\n"
     ]
    },
    {
     "data": {
      "text/html": [
       "<div>\n",
       "<style scoped>\n",
       "    .dataframe tbody tr th:only-of-type {\n",
       "        vertical-align: middle;\n",
       "    }\n",
       "\n",
       "    .dataframe tbody tr th {\n",
       "        vertical-align: top;\n",
       "    }\n",
       "\n",
       "    .dataframe thead th {\n",
       "        text-align: right;\n",
       "    }\n",
       "</style>\n",
       "<table border=\"1\" class=\"dataframe\">\n",
       "  <thead>\n",
       "    <tr style=\"text-align: right;\">\n",
       "      <th></th>\n",
       "      <th>飯店名稱</th>\n",
       "      <th>國籍</th>\n",
       "      <th>負評</th>\n",
       "      <th>正評</th>\n",
       "      <th>綜合評論</th>\n",
       "      <th>縣市</th>\n",
       "      <th>鄉鎮</th>\n",
       "      <th>整體評分</th>\n",
       "      <th>單項評分_整潔度</th>\n",
       "      <th>單項評分_舒適程度</th>\n",
       "      <th>單項評分_住宿地點</th>\n",
       "      <th>單項評分_設施</th>\n",
       "      <th>單項評分_員工素質</th>\n",
       "      <th>單項評分_性價比</th>\n",
       "      <th>綜合評論_cut</th>\n",
       "      <th>綜合評論key_word</th>\n",
       "      <th>負評_cut</th>\n",
       "      <th>負評key_word</th>\n",
       "      <th>正評_cut</th>\n",
       "      <th>正評key_word</th>\n",
       "    </tr>\n",
       "  </thead>\n",
       "  <tbody>\n",
       "    <tr>\n",
       "      <th>1823</th>\n",
       "      <td>鹿台民宿</td>\n",
       "      <td>臺灣</td>\n",
       "      <td>若是晚上開車去高臺上需注意燈光頗為昏暗</td>\n",
       "      <td>早餐很豐盛</td>\n",
       "      <td>早餐很豐盛。若是晚上開車去高臺上需注意燈光頗為昏暗</td>\n",
       "      <td>臺東縣</td>\n",
       "      <td>鹿野鄉</td>\n",
       "      <td>9.1</td>\n",
       "      <td>9.4</td>\n",
       "      <td>9.4</td>\n",
       "      <td>9.5</td>\n",
       "      <td>9.0</td>\n",
       "      <td>9.5</td>\n",
       "      <td>8.8</td>\n",
       "      <td>['早餐', '豐盛', '晚上', '開車', '高', '臺', '需注意', '燈光'...</td>\n",
       "      <td>['豐盛', '開車', '燈光', '需注意', '昏暗', '早餐', '晚上']</td>\n",
       "      <td>['晚上', '開車', '高', '臺', '需注意', '燈光', '昏暗']</td>\n",
       "      <td>['開車', '燈光', '需注意', '昏暗', '晚上']</td>\n",
       "      <td>['早餐', '豐盛']</td>\n",
       "      <td>['豐盛', '早餐']</td>\n",
       "    </tr>\n",
       "  </tbody>\n",
       "</table>\n",
       "</div>"
      ],
      "text/plain": [
       "      飯店名稱  國籍                   負評     正評                       綜合評論   縣市   \n",
       "1823  鹿台民宿  臺灣  若是晚上開車去高臺上需注意燈光頗為昏暗  早餐很豐盛  早餐很豐盛。若是晚上開車去高臺上需注意燈光頗為昏暗  臺東縣  \\\n",
       "\n",
       "       鄉鎮  整體評分  單項評分_整潔度  單項評分_舒適程度  單項評分_住宿地點  單項評分_設施  單項評分_員工素質  單項評分_性價比   \n",
       "1823  鹿野鄉   9.1       9.4        9.4        9.5      9.0        9.5       8.8  \\\n",
       "\n",
       "                                               綜合評論_cut   \n",
       "1823  ['早餐', '豐盛', '晚上', '開車', '高', '臺', '需注意', '燈光'...  \\\n",
       "\n",
       "                                     綜合評論key_word   \n",
       "1823  ['豐盛', '開車', '燈光', '需注意', '昏暗', '早餐', '晚上']  \\\n",
       "\n",
       "                                         負評_cut   \n",
       "1823  ['晚上', '開車', '高', '臺', '需注意', '燈光', '昏暗']  \\\n",
       "\n",
       "                           負評key_word        正評_cut    正評key_word  \n",
       "1823  ['開車', '燈光', '需注意', '昏暗', '晚上']  ['早餐', '豐盛']  ['豐盛', '早餐']  "
      ]
     },
     "execution_count": 10,
     "metadata": {},
     "output_type": "execute_result"
    }
   ],
   "source": [
    "print(len(data[data['飯店名稱']=='鹿台民宿']['綜合評論']))\n",
    "for comment in data[data['飯店名稱']=='鹿台民宿']['綜合評論']:\n",
    "    if '房間' in comment:\n",
    "        print(comment)\n",
    "data[data['飯店名稱']=='鹿台民宿'][0:1]"
   ]
  }
 ],
 "metadata": {
  "kernelspec": {
   "display_name": "Python 3 (ipykernel)",
   "language": "python",
   "name": "python3"
  },
  "language_info": {
   "codemirror_mode": {
    "name": "ipython",
    "version": 3
   },
   "file_extension": ".py",
   "mimetype": "text/x-python",
   "name": "python",
   "nbconvert_exporter": "python",
   "pygments_lexer": "ipython3",
   "version": "3.10.10"
  }
 },
 "nbformat": 4,
 "nbformat_minor": 5
}

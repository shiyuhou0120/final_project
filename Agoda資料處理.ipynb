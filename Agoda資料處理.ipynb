{
 "cells": [
  {
   "cell_type": "code",
   "execution_count": 1,
   "id": "00a93e3f",
   "metadata": {},
   "outputs": [],
   "source": [
    "import pandas as pd\n",
    "import numpy as np\n",
    "import glob\n",
    "import os"
   ]
  },
  {
   "cell_type": "code",
   "execution_count": 6,
   "id": "5fa33cb6",
   "metadata": {},
   "outputs": [],
   "source": [
    "#### csv 整理\n",
    "def dataClean(city):\n",
    "    # 取得所有 CSV 檔案的路徑\n",
    "    csv_files = glob.glob(f'agodaHotelComments_{city}/*.csv')\n",
    "\n",
    "    ### 修改 csv (只保留需要的欄位)\n",
    "    # 建立一個包含所有想要保留的列名的列表\n",
    "    columns_to_keep = [\"所有客房均提供\", \"整體狀況及整潔度\", \"評論分數\", \"總評\", \"評論者\", \n",
    "                       \"評論者國籍\", \"入住人數\", \"房型\", \"住宿細節\", \"評論標題\", \n",
    "                       \"評論副標題\", \"評論內容\", \"評論日期\", \"地址\", \"所有房型\", \n",
    "                       \"附近景點\", \"飯店整體分數\", \"飯店整體評價\", \"已驗證評論數\", \n",
    "                       '可使用語言', '友善設施', '網路服務', '休閒娛樂設施', '衛生安全', \n",
    "                       '服務與便利設施', '接待設施', '設施與設備', '位置', '服務', 'CP值', \n",
    "                       '餐飲服務', '交通服務/設施', '兒童專屬', '客房舒適度', '安全與衛生', \n",
    "                       '衛浴', '戶外設施', '標準設施', '廚房', '娛樂', '舒適設備', '衛浴設備', \n",
    "                       '格局與擺設', '衣物與洗衣設備', '安全特色', '運動器材租用', '親子', \n",
    "                       'Restaurant', '陸上運動']\n",
    "\n",
    "\n",
    "    for file in csv_files:\n",
    "        # 讀取每個 CSV 檔案\n",
    "        data = pd.read_csv(file, header=0)\n",
    "\n",
    "        # 刪除不在列名列表中的所有欄位，然後將修改過的資料存回原本的 CSV 檔案\n",
    "        columns_to_drop = [col for col in data.columns if col not in columns_to_keep]\n",
    "        data.drop(columns_to_drop, axis=1, inplace=True)\n",
    "\n",
    "        # 新增飯店名稱欄位\n",
    "        filename = os.path.splitext(os.path.basename(file))[0]  # 獲取檔名（不含路徑和副檔名）\n",
    "        data['飯店名稱'] = filename\n",
    "\n",
    "        # 新增縣市欄位\n",
    "        data['縣市'] = city\n",
    "\n",
    "        # 儲存回原本的 csv\n",
    "        data.to_csv(file, index=False, encoding='utf-8-sig')\n",
    "\n",
    "#### 合併 csv(縣市)\n",
    "def merge(city):\n",
    "    # 取得所有 CSV 檔案的路徑\n",
    "    csv_files = glob.glob(f'agodaHotelComments_{city}/*.csv')\n",
    "\n",
    "    df = pd.DataFrame()\n",
    "\n",
    "    for file in csv_files:\n",
    "        data = pd.read_csv(file, header=0, low_memory=False)\n",
    "        df = pd.concat([df, data], axis=0,ignore_index=True)\n",
    "\n",
    "    df.to_csv(f'agodaHotelComments_{city}.csv', index=False, encoding='utf-8-sig')\n",
    "    \n",
    "#### 合併全部資料\n",
    "def totalmerge():\n",
    "    # 取得所有 CSV 檔案的路徑\n",
    "    csv_files = glob.glob(f'agodaHotelComments_*.csv')\n",
    "    \n",
    "    df = pd.DataFrame()\n",
    "\n",
    "    for file in csv_files:\n",
    "        data = pd.read_csv(file, header=0, low_memory=False)\n",
    "        df = pd.concat([df, data], axis=0,ignore_index=True)\n",
    "\n",
    "    df.to_csv('agodaHotelComments_all.csv', index=False, encoding='utf-8-sig')"
   ]
  },
  {
   "cell_type": "code",
   "execution_count": 3,
   "id": "c125a97b",
   "metadata": {},
   "outputs": [],
   "source": [
    "if __name__ == '__main__':\n",
    "    \n",
    "    citys = ['台中市','台北市','台東縣','台南市','宜蘭','花蓮縣','金門縣','南投','屏東縣','苗栗','桃園市','馬祖','高雄市','雲林','新竹','嘉義縣','彰化','綠島','澎湖縣','墾丁','基隆市']\n",
    "    for city in citys:\n",
    "        dataClean(city)\n",
    "        merge(city)"
   ]
  },
  {
   "cell_type": "code",
   "execution_count": 10,
   "id": "6deae773",
   "metadata": {},
   "outputs": [],
   "source": [
    "if __name__ == '__main__':\n",
    "    totalmerge()"
   ]
  },
  {
   "cell_type": "code",
   "execution_count": 3,
   "id": "aafd0432",
   "metadata": {},
   "outputs": [
    {
     "name": "stderr",
     "output_type": "stream",
     "text": [
      "C:\\Users\\student\\AppData\\Local\\Temp\\ipykernel_8760\\561990364.py:1: DtypeWarning: Columns (34,36,37,39,40,41,42,43,44,45,46,47,48,49,50) have mixed types. Specify dtype option on import or set low_memory=False.\n",
      "  df = pd.read_csv('agodaHotelComments_all.csv', header=0)\n"
     ]
    },
    {
     "name": "stdout",
     "output_type": "stream",
     "text": [
      "6408\n"
     ]
    }
   ],
   "source": [
    "df = pd.read_csv('agodaHotelComments_all.csv', header=0)\n",
    "unique_values = df['飯店名稱'].unique()\n",
    "print(len(unique_values))"
   ]
  },
  {
   "cell_type": "code",
   "execution_count": null,
   "id": "db48c903",
   "metadata": {},
   "outputs": [],
   "source": [
    "# 把文字左右兩側的空白去除\n",
    "df['評論內容'] = df['評論內容'].apply(lambda x: x.strip() if pd.notnull(x) else x)\n",
    "df['評論副標題'] = df['評論副標題'].apply(lambda x: x.strip() if pd.notnull(x) else x)\n",
    "df['評論標題'] = df['評論標題'].apply(lambda x: x.strip() if pd.notnull(x) else x)\n",
    "\n",
    "# 新增一欄綜合評論\n",
    "df['綜合評論'] = pd.Series()\n",
    "\n",
    "# 把 NA 值填空字串，才能將 df['綜合標題'] 的內容併到綜合評論\n",
    "df['綜合評論'].fillna('', inplace=True)\n",
    "\n",
    "# 計算評論標題\n",
    "df_comments_title_count = df['評論標題'].value_counts();df_comments_title_count\n",
    "\n",
    "# 計算評論副標題\n",
    "df_comments_subTitle_count = df['評論副標題'].value_counts();df_comments_subTitle_count\n",
    "\n",
    "# 因為有遊客會把評論寫在評論標題裡面，所以要把這些留言回填到綜合評論\n",
    "filter1 = df['評論標題'].map(df['評論標題'].value_counts()) < 14000\n",
    "df.loc[filter1, '綜合評論'] += df.loc[filter1, '評論標題'] + '。'\n",
    "\n",
    "# 因為有遊客會把評論寫在評論副標題裡面，所以要把這些留言回填到綜合評論\n",
    "filter2 = df['評論副標題'].map(df['評論副標題'].value_counts()) < 50\n",
    "df.loc[filter2, '綜合評論'] += df.loc[filter2, '評論副標題'] + '。'\n",
    "\n",
    "# 將評論內容併到綜合評論裡\n",
    "filter3= df['評論內容'].notnull()\n",
    "df.loc[filter3,'綜合評論'] += df.loc[filter3,'評論內容']\n",
    "\n",
    "# 將綜合評論空字串變 NAN\n",
    "df['綜合評論'].replace('', np.nan, inplace=True);df\n",
    "\n",
    "df[df['綜合評論'].isna()]"
   ]
  },
  {
   "cell_type": "code",
   "execution_count": 8,
   "id": "086ad90a",
   "metadata": {},
   "outputs": [
    {
     "data": {
      "text/html": [
       "<div>\n",
       "<style scoped>\n",
       "    .dataframe tbody tr th:only-of-type {\n",
       "        vertical-align: middle;\n",
       "    }\n",
       "\n",
       "    .dataframe tbody tr th {\n",
       "        vertical-align: top;\n",
       "    }\n",
       "\n",
       "    .dataframe thead th {\n",
       "        text-align: right;\n",
       "    }\n",
       "</style>\n",
       "<table border=\"1\" class=\"dataframe\">\n",
       "  <thead>\n",
       "    <tr style=\"text-align: right;\">\n",
       "      <th></th>\n",
       "      <th>評論分數</th>\n",
       "      <th>總評</th>\n",
       "      <th>評論者</th>\n",
       "      <th>評論者國籍</th>\n",
       "      <th>入住人數</th>\n",
       "      <th>房型</th>\n",
       "      <th>住宿細節</th>\n",
       "      <th>評論標題</th>\n",
       "      <th>評論副標題</th>\n",
       "      <th>評論內容</th>\n",
       "      <th>...</th>\n",
       "      <th>安全特色</th>\n",
       "      <th>安全與衛生</th>\n",
       "      <th>格局與擺設</th>\n",
       "      <th>衣物與洗衣設備</th>\n",
       "      <th>親子</th>\n",
       "      <th>標準設施</th>\n",
       "      <th>廚房</th>\n",
       "      <th>衛浴</th>\n",
       "      <th>陸上運動</th>\n",
       "      <th>綜合評論</th>\n",
       "    </tr>\n",
       "  </thead>\n",
       "  <tbody>\n",
       "  </tbody>\n",
       "</table>\n",
       "<p>0 rows × 52 columns</p>\n",
       "</div>"
      ],
      "text/plain": [
       "Empty DataFrame\n",
       "Columns: [評論分數, 總評, 評論者, 評論者國籍, 入住人數, 房型, 住宿細節, 評論標題, 評論副標題, 評論內容, 評論日期, 地址, 所有房型, 附近景點, 飯店整體分數, 飯店整體評價, 已驗證評論數, 可使用語言, 網路服務, 休閒娛樂設施, 衛生安全, 餐飲服務, 服務與便利設施, 兒童專屬, 接待設施, 交通服務/設施, 所有客房均提供, 整體狀況及整潔度, 設施與設備, 位置, 服務, CP值, 飯店名稱, 縣市, 運動器材租用, 客房舒適度, Restaurant, 戶外設施, 友善設施, 娛樂, 舒適設備, 衛浴設備, 安全特色, 安全與衛生, 格局與擺設, 衣物與洗衣設備, 親子, 標準設施, 廚房, 衛浴, 陸上運動, 綜合評論]\n",
       "Index: []\n",
       "\n",
       "[0 rows x 52 columns]"
      ]
     },
     "execution_count": 8,
     "metadata": {},
     "output_type": "execute_result"
    }
   ],
   "source": [
    "# # 計算 '評論內容' 欄位中 NaN 的數量\n",
    "# num_nan = df['評論內容'].isna().sum()\n",
    "# print(f\"Number of NaN values: {num_nan}\")\n",
    "\n",
    "# # 計算 '評論內容' 欄位中空字符串的數量\n",
    "# num_empty_strings = (df['評論內容'] == '').sum()\n",
    "# print(f\"Number of empty strings: {num_empty_strings}\")\n",
    "\n",
    "# 刪除 '綜合評論' 為 NaN 的資料\n",
    "df.dropna(subset=['綜合評論'], inplace=True)\n",
    "\n",
    "df[df['綜合評論'].isna()]"
   ]
  },
  {
   "cell_type": "code",
   "execution_count": 9,
   "id": "32cec067",
   "metadata": {},
   "outputs": [],
   "source": [
    "df.to_csv(f'agodaHotelComments_all_clean.csv', index=False, encoding='utf-8-sig')"
   ]
  },
  {
   "cell_type": "code",
   "execution_count": null,
   "id": "134b16a4",
   "metadata": {},
   "outputs": [],
   "source": [
    "df = pd.read_csv('agodaHotelComments_all_clean.csv', header=0, low_memory=False);df"
   ]
  },
  {
   "cell_type": "markdown",
   "id": "6c80fa71",
   "metadata": {},
   "source": [
    "### 清理模型csv不會用到的欄位"
   ]
  },
  {
   "cell_type": "code",
   "execution_count": null,
   "id": "93eebaa6",
   "metadata": {},
   "outputs": [],
   "source": [
    "import pandas as pd\n",
    "\n",
    "df = pd.read_csv('./model_agoda/agoda_roberta_hotel_info_綜合評論.csv',encoding='utf-8-sig')"
   ]
  },
  {
   "cell_type": "code",
   "execution_count": 5,
   "id": "39f02010",
   "metadata": {},
   "outputs": [
    {
     "data": {
      "text/plain": [
       "Index(['整體評分', '總評', '評論者', '評論者國籍', '入住人數', '房型', '住宿細節', '評論標題', '評論副標題',\n",
       "       '評論內容', '評論日期', '地址', '所有房型', '附近景點', '飯店整體分數', '飯店整體評價', '已驗證評論數',\n",
       "       '可使用語言', '網路服務', '休閒娛樂設施', '衛生安全', '餐飲服務', '服務與便利設施', '兒童專屬', '接待設施',\n",
       "       '交通服務/設施', '所有客房均提供', '整體狀況及整潔度', '設施與設備', '位置', '服務', 'CP值', '飯店名稱',\n",
       "       '運動器材租用', '客房舒適度', 'Restaurant', '戶外設施', '友善設施', '娛樂', '舒適設備', '衛浴設備',\n",
       "       '安全特色', '安全與衛生', '格局與擺設', '衣物與洗衣設備', '親子', '標準設施', '廚房', '衛浴', '陸上運動',\n",
       "       '綜合評論', '縣市', '鄉鎮'],\n",
       "      dtype='object')"
      ]
     },
     "execution_count": 5,
     "metadata": {},
     "output_type": "execute_result"
    }
   ],
   "source": [
    "df.columns"
   ]
  },
  {
   "cell_type": "code",
   "execution_count": null,
   "id": "f5cd1483",
   "metadata": {},
   "outputs": [],
   "source": [
    "df = df[['評論者國籍', '地址', '附近景點', '飯店整體分數','整體狀況及整潔度', '設施與設備', '位置', '服務', 'CP值', '飯店名稱',\n",
    "         '綜合評論', '縣市', '鄉鎮']];df"
   ]
  },
  {
   "cell_type": "code",
   "execution_count": 15,
   "id": "d322247c",
   "metadata": {},
   "outputs": [],
   "source": [
    "df.to_csv('./model_agoda/agoda_roberta_hotel_info_綜合評論.csv', index=False, encoding='utf-8-sig')"
   ]
  }
 ],
 "metadata": {
  "kernelspec": {
   "display_name": "Python 3 (ipykernel)",
   "language": "python",
   "name": "python3"
  },
  "language_info": {
   "codemirror_mode": {
    "name": "ipython",
    "version": 3
   },
   "file_extension": ".py",
   "mimetype": "text/x-python",
   "name": "python",
   "nbconvert_exporter": "python",
   "pygments_lexer": "ipython3",
   "version": "3.10.10"
  }
 },
 "nbformat": 4,
 "nbformat_minor": 5
}
